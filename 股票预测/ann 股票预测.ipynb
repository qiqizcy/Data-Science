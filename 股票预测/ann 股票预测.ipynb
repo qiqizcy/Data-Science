{
 "cells": [
  {
   "cell_type": "code",
   "execution_count": 1,
   "id": "b804facc",
   "metadata": {},
   "outputs": [
    {
     "name": "stderr",
     "output_type": "stream",
     "text": [
      "F:\\anaconda\\lib\\site-packages\\statsmodels\\tsa\\base\\tsa_model.py:7: FutureWarning: pandas.Int64Index is deprecated and will be removed from pandas in a future version. Use pandas.Index with the appropriate dtype instead.\n",
      "  from pandas import (to_datetime, Int64Index, DatetimeIndex, Period,\n",
      "F:\\anaconda\\lib\\site-packages\\statsmodels\\tsa\\base\\tsa_model.py:7: FutureWarning: pandas.Float64Index is deprecated and will be removed from pandas in a future version. Use pandas.Index with the appropriate dtype instead.\n",
      "  from pandas import (to_datetime, Int64Index, DatetimeIndex, Period,\n"
     ]
    }
   ],
   "source": [
    "\n",
    "import pandas as pd\n",
    "import numpy as np\n",
    "import matplotlib.pyplot as plt\n",
    "import seaborn as sns     #seaborn画出的图更好看，且代码更简单，缺点是可塑性差\n",
    "from statsmodels.graphics.tsaplots import plot_acf  #自相关图\n",
    "from statsmodels.tsa.stattools import adfuller as ADF  #平稳性检测\n",
    "from statsmodels.graphics.tsaplots import plot_pacf    #偏自相关图\n",
    "from statsmodels.stats.diagnostic import acorr_ljungbox    #白噪声检验\n",
    "from statsmodels.tsa.arima_model import ARIMA\n",
    "#seaborn 是建立在matplotlib之上的\n",
    "%matplotlib inline\n",
    "import pylab\n",
    "plt.rcParams['font.sans-serif'] = ['SimHei'] #用来正常显示中文标签\n",
    "plt.rcParams['axes.unicode_minus'] = False #用来正常显示负号\n",
    "pylab.rcParams['figure.figsize'] = (10, 6)   #设置输出图片大小\n",
    "sns.set(color_codes=True) #seaborn设置背景\n"
   ]
  },
  {
   "cell_type": "code",
   "execution_count": 2,
   "id": "5d8dffe6",
   "metadata": {},
   "outputs": [],
   "source": [
    "data = pd.read_excel('E:/postgraduate/案例选题数据及说明/美小麦连续1.xlsx')"
   ]
  },
  {
   "cell_type": "code",
   "execution_count": 3,
   "id": "715be2af",
   "metadata": {},
   "outputs": [
    {
     "data": {
      "text/html": [
       "<div>\n",
       "<style scoped>\n",
       "    .dataframe tbody tr th:only-of-type {\n",
       "        vertical-align: middle;\n",
       "    }\n",
       "\n",
       "    .dataframe tbody tr th {\n",
       "        vertical-align: top;\n",
       "    }\n",
       "\n",
       "    .dataframe thead th {\n",
       "        text-align: right;\n",
       "    }\n",
       "</style>\n",
       "<table border=\"1\" class=\"dataframe\">\n",
       "  <thead>\n",
       "    <tr style=\"text-align: right;\">\n",
       "      <th></th>\n",
       "      <th>时间</th>\n",
       "      <th>开盘</th>\n",
       "      <th>最高</th>\n",
       "      <th>最低</th>\n",
       "      <th>收盘</th>\n",
       "      <th>涨幅</th>\n",
       "      <th>振幅</th>\n",
       "      <th>总手</th>\n",
       "      <th>金额</th>\n",
       "      <th>换手%</th>\n",
       "      <th>成交次数</th>\n",
       "    </tr>\n",
       "  </thead>\n",
       "  <tbody>\n",
       "    <tr>\n",
       "      <th>0</th>\n",
       "      <td>2021-01-12,二</td>\n",
       "      <td>636.25</td>\n",
       "      <td>670.00</td>\n",
       "      <td>634.00</td>\n",
       "      <td>664.75</td>\n",
       "      <td>0.0473</td>\n",
       "      <td>0.0567</td>\n",
       "      <td>76800</td>\n",
       "      <td>--</td>\n",
       "      <td>0</td>\n",
       "      <td>19876</td>\n",
       "    </tr>\n",
       "    <tr>\n",
       "      <th>1</th>\n",
       "      <td>2021-01-13,三</td>\n",
       "      <td>665.00</td>\n",
       "      <td>680.75</td>\n",
       "      <td>656.25</td>\n",
       "      <td>659.25</td>\n",
       "      <td>-0.0086</td>\n",
       "      <td>0.0368</td>\n",
       "      <td>76421</td>\n",
       "      <td>--</td>\n",
       "      <td>0</td>\n",
       "      <td>19868</td>\n",
       "    </tr>\n",
       "    <tr>\n",
       "      <th>2</th>\n",
       "      <td>2021-01-14,四</td>\n",
       "      <td>660.00</td>\n",
       "      <td>673.25</td>\n",
       "      <td>653.00</td>\n",
       "      <td>670.50</td>\n",
       "      <td>0.0151</td>\n",
       "      <td>0.0307</td>\n",
       "      <td>57699</td>\n",
       "      <td>--</td>\n",
       "      <td>0</td>\n",
       "      <td>14241</td>\n",
       "    </tr>\n",
       "    <tr>\n",
       "      <th>3</th>\n",
       "      <td>2021-01-15,五</td>\n",
       "      <td>671.00</td>\n",
       "      <td>693.00</td>\n",
       "      <td>664.50</td>\n",
       "      <td>674.75</td>\n",
       "      <td>0.0071</td>\n",
       "      <td>0.0425</td>\n",
       "      <td>75385</td>\n",
       "      <td>--</td>\n",
       "      <td>0</td>\n",
       "      <td>19534</td>\n",
       "    </tr>\n",
       "    <tr>\n",
       "      <th>4</th>\n",
       "      <td>2021-01-19,二</td>\n",
       "      <td>683.75</td>\n",
       "      <td>691.25</td>\n",
       "      <td>668.75</td>\n",
       "      <td>673.25</td>\n",
       "      <td>-0.0033</td>\n",
       "      <td>0.0333</td>\n",
       "      <td>61713</td>\n",
       "      <td>--</td>\n",
       "      <td>0</td>\n",
       "      <td>18738</td>\n",
       "    </tr>\n",
       "  </tbody>\n",
       "</table>\n",
       "</div>"
      ],
      "text/plain": [
       "             时间      开盘      最高      最低      收盘      涨幅      振幅     总手  金额  \\\n",
       "0  2021-01-12,二  636.25  670.00  634.00  664.75  0.0473  0.0567  76800  --   \n",
       "1  2021-01-13,三  665.00  680.75  656.25  659.25 -0.0086  0.0368  76421  --   \n",
       "2  2021-01-14,四  660.00  673.25  653.00  670.50  0.0151  0.0307  57699  --   \n",
       "3  2021-01-15,五  671.00  693.00  664.50  674.75  0.0071  0.0425  75385  --   \n",
       "4  2021-01-19,二  683.75  691.25  668.75  673.25 -0.0033  0.0333  61713  --   \n",
       "\n",
       "   换手%   成交次数  \n",
       "0    0  19876  \n",
       "1    0  19868  \n",
       "2    0  14241  \n",
       "3    0  19534  \n",
       "4    0  18738  "
      ]
     },
     "execution_count": 3,
     "metadata": {},
     "output_type": "execute_result"
    }
   ],
   "source": [
    "data.head()"
   ]
  },
  {
   "cell_type": "code",
   "execution_count": 6,
   "id": "81116ff7",
   "metadata": {},
   "outputs": [
    {
     "data": {
      "text/plain": [
       "[<matplotlib.lines.Line2D at 0x26187470d30>]"
      ]
     },
     "execution_count": 6,
     "metadata": {},
     "output_type": "execute_result"
    },
    {
     "data": {
      "image/png": "[encoded data removed]",
      "text/plain": [
       "<Figure size 720x432 with 1 Axes>"
      ]
     },
     "metadata": {},
     "output_type": "display_data"
    }
   ],
   "source": [
    "x = data['时间']\n",
    "y = data['收盘']\n",
    "plt.plot(x,y,color = 'hotpink')"
   ]
  },
  {
   "cell_type": "code",
   "execution_count": 23,
   "id": "d78fe4db",
   "metadata": {},
   "outputs": [
    {
     "data": {
      "text/html": [
       "<div>\n",
       "<style scoped>\n",
       "    .dataframe tbody tr th:only-of-type {\n",
       "        vertical-align: middle;\n",
       "    }\n",
       "\n",
       "    .dataframe tbody tr th {\n",
       "        vertical-align: top;\n",
       "    }\n",
       "\n",
       "    .dataframe thead th {\n",
       "        text-align: right;\n",
       "    }\n",
       "</style>\n",
       "<table border=\"1\" class=\"dataframe\">\n",
       "  <thead>\n",
       "    <tr style=\"text-align: right;\">\n",
       "      <th></th>\n",
       "      <th>开盘</th>\n",
       "      <th>最高</th>\n",
       "      <th>最低</th>\n",
       "      <th>收盘</th>\n",
       "      <th>总手</th>\n",
       "    </tr>\n",
       "  </thead>\n",
       "  <tbody>\n",
       "    <tr>\n",
       "      <th>0</th>\n",
       "      <td>636.25</td>\n",
       "      <td>670.00</td>\n",
       "      <td>634.00</td>\n",
       "      <td>664.75</td>\n",
       "      <td>76800</td>\n",
       "    </tr>\n",
       "    <tr>\n",
       "      <th>1</th>\n",
       "      <td>665.00</td>\n",
       "      <td>680.75</td>\n",
       "      <td>656.25</td>\n",
       "      <td>659.25</td>\n",
       "      <td>76421</td>\n",
       "    </tr>\n",
       "    <tr>\n",
       "      <th>2</th>\n",
       "      <td>660.00</td>\n",
       "      <td>673.25</td>\n",
       "      <td>653.00</td>\n",
       "      <td>670.50</td>\n",
       "      <td>57699</td>\n",
       "    </tr>\n",
       "    <tr>\n",
       "      <th>3</th>\n",
       "      <td>671.00</td>\n",
       "      <td>693.00</td>\n",
       "      <td>664.50</td>\n",
       "      <td>674.75</td>\n",
       "      <td>75385</td>\n",
       "    </tr>\n",
       "    <tr>\n",
       "      <th>4</th>\n",
       "      <td>683.75</td>\n",
       "      <td>691.25</td>\n",
       "      <td>668.75</td>\n",
       "      <td>673.25</td>\n",
       "      <td>61713</td>\n",
       "    </tr>\n",
       "    <tr>\n",
       "      <th>...</th>\n",
       "      <td>...</td>\n",
       "      <td>...</td>\n",
       "      <td>...</td>\n",
       "      <td>...</td>\n",
       "      <td>...</td>\n",
       "    </tr>\n",
       "    <tr>\n",
       "      <th>285</th>\n",
       "      <td>920.25</td>\n",
       "      <td>930.50</td>\n",
       "      <td>885.50</td>\n",
       "      <td>927.75</td>\n",
       "      <td>1049</td>\n",
       "    </tr>\n",
       "    <tr>\n",
       "      <th>286</th>\n",
       "      <td>951.00</td>\n",
       "      <td>1004.50</td>\n",
       "      <td>951.00</td>\n",
       "      <td>1004.50</td>\n",
       "      <td>503</td>\n",
       "    </tr>\n",
       "    <tr>\n",
       "      <th>287</th>\n",
       "      <td>1009.25</td>\n",
       "      <td>1132.00</td>\n",
       "      <td>997.50</td>\n",
       "      <td>1053.25</td>\n",
       "      <td>355</td>\n",
       "    </tr>\n",
       "    <tr>\n",
       "      <th>288</th>\n",
       "      <td>1124.25</td>\n",
       "      <td>1221.00</td>\n",
       "      <td>1119.00</td>\n",
       "      <td>1221.00</td>\n",
       "      <td>173</td>\n",
       "    </tr>\n",
       "    <tr>\n",
       "      <th>289</th>\n",
       "      <td>1340.00</td>\n",
       "      <td>1340.00</td>\n",
       "      <td>1201.50</td>\n",
       "      <td>1201.50</td>\n",
       "      <td>90</td>\n",
       "    </tr>\n",
       "  </tbody>\n",
       "</table>\n",
       "<p>290 rows × 5 columns</p>\n",
       "</div>"
      ],
      "text/plain": [
       "          开盘       最高       最低       收盘     总手\n",
       "0     636.25   670.00   634.00   664.75  76800\n",
       "1     665.00   680.75   656.25   659.25  76421\n",
       "2     660.00   673.25   653.00   670.50  57699\n",
       "3     671.00   693.00   664.50   674.75  75385\n",
       "4     683.75   691.25   668.75   673.25  61713\n",
       "..       ...      ...      ...      ...    ...\n",
       "285   920.25   930.50   885.50   927.75   1049\n",
       "286   951.00  1004.50   951.00  1004.50    503\n",
       "287  1009.25  1132.00   997.50  1053.25    355\n",
       "288  1124.25  1221.00  1119.00  1221.00    173\n",
       "289  1340.00  1340.00  1201.50  1201.50     90\n",
       "\n",
       "[290 rows x 5 columns]"
      ]
     },
     "execution_count": 23,
     "metadata": {},
     "output_type": "execute_result"
    },
    {
     "data": {
      "image/png": "[encoded data removed]",
      "text/plain": [
       "<Figure size 720x432 with 1 Axes>"
      ]
     },
     "metadata": {},
     "output_type": "display_data"
    }
   ],
   "source": [
    "plt.rcParams['font.sans-serif'] = ['SimHei']\n",
    "data1 = data[['开盘','最高','最低','收盘','总手']]\n",
    "plt.boxplot(data1['总手'],labels = ['总手'])\n",
    "data1"
   ]
  },
  {
   "cell_type": "code",
   "execution_count": 24,
   "id": "230f31ad",
   "metadata": {},
   "outputs": [],
   "source": [
    "upper_lim = data1.总手.mean() +3*data1.总手.std()  ## Removing the outliers\n",
    "lower_lim = data1.总手.mean() -3*data1.总手.std()"
   ]
  },
  {
   "cell_type": "code",
   "execution_count": 26,
   "id": "42c0c836",
   "metadata": {},
   "outputs": [
    {
     "data": {
      "image/png": "[encoded data removed]",
      "text/plain": [
       "<Figure size 720x432 with 1 Axes>"
      ]
     },
     "metadata": {},
     "output_type": "display_data"
    }
   ],
   "source": [
    "data1 = data1[(data1.总手 > lower_lim) & (data1.总手 < upper_lim)]\n",
    "fig, ax = plt.subplots()\n",
    "ax =sns.kdeplot(data1['总手'], shade=True, color=\"b\")"
   ]
  },
  {
   "cell_type": "code",
   "execution_count": 28,
   "id": "8ea23e6e",
   "metadata": {},
   "outputs": [
    {
     "data": {
      "image/png": "[encoded data removed]",
      "text/plain": [
       "<Figure size 720x432 with 1 Axes>"
      ]
     },
     "metadata": {},
     "output_type": "display_data"
    }
   ],
   "source": [
    "ax = sns.kdeplot(data1['收盘'], shade=True, color=\"r\")"
   ]
  },
  {
   "cell_type": "code",
   "execution_count": 10,
   "id": "abf67a3b",
   "metadata": {},
   "outputs": [],
   "source": [
    "from sklearn.preprocessing import MinMaxScaler\n",
    "from sklearn.model_selection import train_test_split"
   ]
  },
  {
   "cell_type": "code",
   "execution_count": 12,
   "id": "d43563bd",
   "metadata": {},
   "outputs": [
    {
     "data": {
      "text/html": [
       "<div>\n",
       "<style scoped>\n",
       "    .dataframe tbody tr th:only-of-type {\n",
       "        vertical-align: middle;\n",
       "    }\n",
       "\n",
       "    .dataframe tbody tr th {\n",
       "        vertical-align: top;\n",
       "    }\n",
       "\n",
       "    .dataframe thead th {\n",
       "        text-align: right;\n",
       "    }\n",
       "</style>\n",
       "<table border=\"1\" class=\"dataframe\">\n",
       "  <thead>\n",
       "    <tr style=\"text-align: right;\">\n",
       "      <th></th>\n",
       "      <th>开盘</th>\n",
       "      <th>最高</th>\n",
       "      <th>最低</th>\n",
       "      <th>收盘</th>\n",
       "    </tr>\n",
       "  </thead>\n",
       "  <tbody>\n",
       "    <tr>\n",
       "      <th>0</th>\n",
       "      <td>0.044791</td>\n",
       "      <td>0.073626</td>\n",
       "      <td>0.066995</td>\n",
       "      <td>0.103184</td>\n",
       "    </tr>\n",
       "    <tr>\n",
       "      <th>1</th>\n",
       "      <td>0.083814</td>\n",
       "      <td>0.088489</td>\n",
       "      <td>0.103576</td>\n",
       "      <td>0.094317</td>\n",
       "    </tr>\n",
       "    <tr>\n",
       "      <th>2</th>\n",
       "      <td>0.077027</td>\n",
       "      <td>0.078120</td>\n",
       "      <td>0.098233</td>\n",
       "      <td>0.112455</td>\n",
       "    </tr>\n",
       "    <tr>\n",
       "      <th>3</th>\n",
       "      <td>0.091958</td>\n",
       "      <td>0.105427</td>\n",
       "      <td>0.117139</td>\n",
       "      <td>0.119307</td>\n",
       "    </tr>\n",
       "    <tr>\n",
       "      <th>4</th>\n",
       "      <td>0.109264</td>\n",
       "      <td>0.103007</td>\n",
       "      <td>0.124127</td>\n",
       "      <td>0.116888</td>\n",
       "    </tr>\n",
       "    <tr>\n",
       "      <th>...</th>\n",
       "      <td>...</td>\n",
       "      <td>...</td>\n",
       "      <td>...</td>\n",
       "      <td>...</td>\n",
       "    </tr>\n",
       "    <tr>\n",
       "      <th>285</th>\n",
       "      <td>0.430268</td>\n",
       "      <td>0.433806</td>\n",
       "      <td>0.480477</td>\n",
       "      <td>0.527207</td>\n",
       "    </tr>\n",
       "    <tr>\n",
       "      <th>286</th>\n",
       "      <td>0.472005</td>\n",
       "      <td>0.536122</td>\n",
       "      <td>0.588163</td>\n",
       "      <td>0.650947</td>\n",
       "    </tr>\n",
       "    <tr>\n",
       "      <th>287</th>\n",
       "      <td>0.551069</td>\n",
       "      <td>0.712409</td>\n",
       "      <td>0.664612</td>\n",
       "      <td>0.729545</td>\n",
       "    </tr>\n",
       "    <tr>\n",
       "      <th>288</th>\n",
       "      <td>0.707160</td>\n",
       "      <td>0.835465</td>\n",
       "      <td>0.864365</td>\n",
       "      <td>1.000000</td>\n",
       "    </tr>\n",
       "    <tr>\n",
       "      <th>289</th>\n",
       "      <td>1.000000</td>\n",
       "      <td>1.000000</td>\n",
       "      <td>1.000000</td>\n",
       "      <td>0.968561</td>\n",
       "    </tr>\n",
       "  </tbody>\n",
       "</table>\n",
       "<p>290 rows × 4 columns</p>\n",
       "</div>"
      ],
      "text/plain": [
       "           开盘        最高        最低        收盘\n",
       "0    0.044791  0.073626  0.066995  0.103184\n",
       "1    0.083814  0.088489  0.103576  0.094317\n",
       "2    0.077027  0.078120  0.098233  0.112455\n",
       "3    0.091958  0.105427  0.117139  0.119307\n",
       "4    0.109264  0.103007  0.124127  0.116888\n",
       "..        ...       ...       ...       ...\n",
       "285  0.430268  0.433806  0.480477  0.527207\n",
       "286  0.472005  0.536122  0.588163  0.650947\n",
       "287  0.551069  0.712409  0.664612  0.729545\n",
       "288  0.707160  0.835465  0.864365  1.000000\n",
       "289  1.000000  1.000000  1.000000  0.968561\n",
       "\n",
       "[290 rows x 4 columns]"
      ]
     },
     "execution_count": 12,
     "metadata": {},
     "output_type": "execute_result"
    }
   ],
   "source": [
    "mmc = MinMaxScaler()\n",
    "scaled_data = mmc.fit_transform(data1)\n",
    "scaled_data = pd.DataFrame(scaled_data , columns = ['开盘','最高','最低','收盘'])\n",
    "scaled_data"
   ]
  },
  {
   "cell_type": "code",
   "execution_count": 13,
   "id": "4d0deea3",
   "metadata": {},
   "outputs": [],
   "source": [
    "train1 = scaled_data.iloc[:int(len(data)*0.8)]\n",
    "test1 = scaled_data.iloc[int(len(data)*0.8):]"
   ]
  },
  {
   "cell_type": "code",
   "execution_count": 17,
   "id": "9b0eb4b1",
   "metadata": {},
   "outputs": [
    {
     "data": {
      "text/plain": [
       "[<matplotlib.lines.Line2D at 0x26189200d60>]"
      ]
     },
     "execution_count": 17,
     "metadata": {},
     "output_type": "execute_result"
    },
    {
     "data": {
      "image/png": "[encoded data removed]",
      "text/plain": [
       "<Figure size 720x432 with 1 Axes>"
      ]
     },
     "metadata": {},
     "output_type": "display_data"
    }
   ],
   "source": [
    "fig,ax = plt.subplots()\n",
    "ax.plot(train1.收盘)\n",
    "ax.plot(test1.收盘)"
   ]
  },
  {
   "cell_type": "code",
   "execution_count": 18,
   "id": "e5bad8eb",
   "metadata": {},
   "outputs": [],
   "source": [
    "X_train1,X_test1,y_train1,y_test1 = train1.drop('收盘',axis='columns'),test1.drop(['收盘'],axis='columns'),train1['收盘'],test1['收盘']"
   ]
  },
  {
   "cell_type": "code",
   "execution_count": 19,
   "id": "ea025262",
   "metadata": {},
   "outputs": [],
   "source": [
    "from tensorflow import keras"
   ]
  },
  {
   "cell_type": "code",
   "execution_count": 41,
   "id": "2dfc0c23",
   "metadata": {},
   "outputs": [],
   "source": [
    "def build_model(hp):\n",
    "    model = keras.Sequential()\n",
    "    model.add(keras.layers.Flatten(input_shape=(3,1)))\n",
    "\n",
    "    hp_units = hp.Int('units', min_value = 32, max_value = 512, step = 16)\n",
    "    model.add(keras.layers.Dense(units = hp_units, activation = 'relu'))\n",
    "    model.add(keras.layers.Dense(10))\n",
    "\n",
    "    hp_learning_rate = hp.Choice('learning_rate', values = [1e-1,1e-2, 1e-3, 1e-4,1e-5]) \n",
    "\n",
    "    model.compile(optimizer = keras.optimizers.Adam(learning_rate = hp_learning_rate),\n",
    "                loss = keras.losses.MeanAbsoluteError(), \n",
    "                metrics = ['accuracy'])\n",
    "\n",
    "    return model"
   ]
  },
  {
   "cell_type": "code",
   "execution_count": 42,
   "id": "5e3cee86",
   "metadata": {},
   "outputs": [
    {
     "name": "stdout",
     "output_type": "stream",
     "text": [
      "Trial 31 Complete [00h 00m 03s]\n",
      "val_loss: 0.01877993531525135\n",
      "\n",
      "Best val_loss So Far: 0.01877993531525135\n",
      "Total elapsed time: 00h 00m 56s\n",
      "INFO:tensorflow:Oracle triggered exit\n"
     ]
    }
   ],
   "source": [
    "import keras_tuner as kt\n",
    "tuner = kt.Hyperband(build_model,\n",
    "                         objective = 'val_loss', \n",
    "                         max_epochs = 10,\n",
    "                         factor = 3,)\n",
    "\n",
    "tuner.search(X_train1, y_train1, epochs = 10, validation_data = (X_test1, y_test1))  "
   ]
  },
  {
   "cell_type": "code",
   "execution_count": 31,
   "id": "33230137",
   "metadata": {},
   "outputs": [
    {
     "name": "stdout",
     "output_type": "stream",
     "text": [
      "Collecting keras_tuner\n",
      "  Downloading keras_tuner-1.1.0-py3-none-any.whl (98 kB)\n",
      "Requirement already satisfied: tensorboard in f:\\anaconda\\lib\\site-packages (from keras_tuner) (2.7.0)\n",
      "Requirement already satisfied: requests in f:\\anaconda\\lib\\site-packages (from keras_tuner) (2.25.1)\n",
      "Requirement already satisfied: numpy in f:\\anaconda\\lib\\site-packages (from keras_tuner) (1.20.1)\n",
      "Requirement already satisfied: packaging in f:\\anaconda\\lib\\site-packages (from keras_tuner) (20.9)\n",
      "Collecting kt-legacy\n",
      "  Downloading kt_legacy-1.0.4-py3-none-any.whl (9.6 kB)\n",
      "Requirement already satisfied: scipy in f:\\anaconda\\lib\\site-packages (from keras_tuner) (1.6.2)\n",
      "Requirement already satisfied: ipython in f:\\anaconda\\lib\\site-packages (from keras_tuner) (7.22.0)\n",
      "Requirement already satisfied: setuptools>=18.5 in f:\\anaconda\\lib\\site-packages (from ipython->keras_tuner) (52.0.0.post20210125)\n",
      "Requirement already satisfied: pygments in f:\\anaconda\\lib\\site-packages (from ipython->keras_tuner) (2.8.1)\n",
      "Requirement already satisfied: pickleshare in f:\\anaconda\\lib\\site-packages (from ipython->keras_tuner) (0.7.5)\n",
      "Requirement already satisfied: traitlets>=4.2 in f:\\anaconda\\lib\\site-packages (from ipython->keras_tuner) (5.0.5)\n",
      "Requirement already satisfied: jedi>=0.16 in f:\\anaconda\\lib\\site-packages (from ipython->keras_tuner) (0.17.2)\n",
      "Requirement already satisfied: colorama in f:\\anaconda\\lib\\site-packages (from ipython->keras_tuner) (0.4.4)\n",
      "Requirement already satisfied: prompt-toolkit!=3.0.0,!=3.0.1,<3.1.0,>=2.0.0 in f:\\anaconda\\lib\\site-packages (from ipython->keras_tuner) (3.0.17)\n",
      "Requirement already satisfied: decorator in f:\\anaconda\\lib\\site-packages (from ipython->keras_tuner) (5.0.6)\n",
      "Requirement already satisfied: backcall in f:\\anaconda\\lib\\site-packages (from ipython->keras_tuner) (0.2.0)\n",
      "Requirement already satisfied: parso<0.8.0,>=0.7.0 in f:\\anaconda\\lib\\site-packages (from jedi>=0.16->ipython->keras_tuner) (0.7.0)\n",
      "Requirement already satisfied: wcwidth in f:\\anaconda\\lib\\site-packages (from prompt-toolkit!=3.0.0,!=3.0.1,<3.1.0,>=2.0.0->ipython->keras_tuner) (0.2.5)\n",
      "Requirement already satisfied: ipython-genutils in f:\\anaconda\\lib\\site-packages (from traitlets>=4.2->ipython->keras_tuner) (0.2.0)\n",
      "Requirement already satisfied: pyparsing>=2.0.2 in f:\\anaconda\\lib\\site-packages (from packaging->keras_tuner) (2.4.7)\n",
      "Requirement already satisfied: chardet<5,>=3.0.2 in f:\\anaconda\\lib\\site-packages (from requests->keras_tuner) (4.0.0)\n",
      "Requirement already satisfied: urllib3<1.27,>=1.21.1 in f:\\anaconda\\lib\\site-packages (from requests->keras_tuner) (1.26.4)\n",
      "Requirement already satisfied: idna<3,>=2.5 in f:\\anaconda\\lib\\site-packages (from requests->keras_tuner) (2.10)\n",
      "Requirement already satisfied: certifi>=2017.4.17 in f:\\anaconda\\lib\\site-packages (from requests->keras_tuner) (2020.12.5)\n",
      "Requirement already satisfied: tensorboard-plugin-wit>=1.6.0 in f:\\anaconda\\lib\\site-packages (from tensorboard->keras_tuner) (1.8.0)\n",
      "Requirement already satisfied: markdown>=2.6.8 in f:\\anaconda\\lib\\site-packages (from tensorboard->keras_tuner) (3.3.6)\n",
      "Requirement already satisfied: grpcio>=1.24.3 in f:\\anaconda\\lib\\site-packages (from tensorboard->keras_tuner) (1.42.0)\n",
      "Requirement already satisfied: wheel>=0.26 in f:\\anaconda\\lib\\site-packages (from tensorboard->keras_tuner) (0.36.2)\n",
      "Requirement already satisfied: tensorboard-data-server<0.7.0,>=0.6.0 in f:\\anaconda\\lib\\site-packages (from tensorboard->keras_tuner) (0.6.1)\n",
      "Requirement already satisfied: werkzeug>=0.11.15 in f:\\anaconda\\lib\\site-packages (from tensorboard->keras_tuner) (1.0.1)\n",
      "Requirement already satisfied: google-auth<3,>=1.6.3 in f:\\anaconda\\lib\\site-packages (from tensorboard->keras_tuner) (2.3.3)\n",
      "Requirement already satisfied: protobuf>=3.6.0 in f:\\anaconda\\lib\\site-packages (from tensorboard->keras_tuner) (3.19.1)\n",
      "Requirement already satisfied: absl-py>=0.4 in f:\\anaconda\\lib\\site-packages (from tensorboard->keras_tuner) (1.0.0)\n",
      "Requirement already satisfied: google-auth-oauthlib<0.5,>=0.4.1 in f:\\anaconda\\lib\\site-packages (from tensorboard->keras_tuner) (0.4.6)\n",
      "Requirement already satisfied: six in f:\\anaconda\\lib\\site-packages (from absl-py>=0.4->tensorboard->keras_tuner) (1.15.0)\n",
      "Requirement already satisfied: pyasn1-modules>=0.2.1 in f:\\anaconda\\lib\\site-packages (from google-auth<3,>=1.6.3->tensorboard->keras_tuner) (0.2.8)\n",
      "Requirement already satisfied: cachetools<5.0,>=2.0.0 in f:\\anaconda\\lib\\site-packages (from google-auth<3,>=1.6.3->tensorboard->keras_tuner) (4.2.4)\n",
      "Requirement already satisfied: rsa<5,>=3.1.4 in f:\\anaconda\\lib\\site-packages (from google-auth<3,>=1.6.3->tensorboard->keras_tuner) (4.8)\n",
      "Requirement already satisfied: requests-oauthlib>=0.7.0 in f:\\anaconda\\lib\\site-packages (from google-auth-oauthlib<0.5,>=0.4.1->tensorboard->keras_tuner) (1.3.0)\n",
      "Requirement already satisfied: importlib-metadata>=4.4 in f:\\anaconda\\lib\\site-packages (from markdown>=2.6.8->tensorboard->keras_tuner) (4.8.2)\n",
      "Requirement already satisfied: zipp>=0.5 in f:\\anaconda\\lib\\site-packages (from importlib-metadata>=4.4->markdown>=2.6.8->tensorboard->keras_tuner) (3.4.1)\n",
      "Requirement already satisfied: pyasn1<0.5.0,>=0.4.6 in f:\\anaconda\\lib\\site-packages (from pyasn1-modules>=0.2.1->google-auth<3,>=1.6.3->tensorboard->keras_tuner) (0.4.8)\n",
      "Requirement already satisfied: oauthlib>=3.0.0 in f:\\anaconda\\lib\\site-packages (from requests-oauthlib>=0.7.0->google-auth-oauthlib<0.5,>=0.4.1->tensorboard->keras_tuner) (3.1.1)\n",
      "Installing collected packages: kt-legacy, keras-tuner\n",
      "Successfully installed keras-tuner-1.1.0 kt-legacy-1.0.4\n"
     ]
    }
   ],
   "source": [
    "!pip install keras_tuner"
   ]
  },
  {
   "cell_type": "code",
   "execution_count": 43,
   "id": "499c0ae0",
   "metadata": {},
   "outputs": [],
   "source": [
    "best_hps=tuner.get_best_hyperparameters(num_trials=1)[0]"
   ]
  },
  {
   "cell_type": "code",
   "execution_count": 44,
   "id": "9511698c",
   "metadata": {},
   "outputs": [
    {
     "name": "stdout",
     "output_type": "stream",
     "text": [
      "Epoch 1/50\n",
      "6/6 [==============================] - 0s 34ms/step - loss: 0.0708 - accuracy: 0.0000e+00 - val_loss: 0.0549 - val_accuracy: 0.0000e+00\n",
      "Epoch 2/50\n",
      "6/6 [==============================] - 0s 6ms/step - loss: 0.0377 - accuracy: 0.0000e+00 - val_loss: 0.0802 - val_accuracy: 0.0000e+00\n",
      "Epoch 3/50\n",
      "6/6 [==============================] - 0s 8ms/step - loss: 0.0247 - accuracy: 0.0000e+00 - val_loss: 0.0411 - val_accuracy: 0.0000e+00\n",
      "Epoch 4/50\n",
      "6/6 [==============================] - 0s 8ms/step - loss: 0.0158 - accuracy: 0.0000e+00 - val_loss: 0.0201 - val_accuracy: 0.0000e+00\n",
      "Epoch 5/50\n",
      "6/6 [==============================] - 0s 7ms/step - loss: 0.0127 - accuracy: 0.0000e+00 - val_loss: 0.0164 - val_accuracy: 0.0000e+00\n",
      "Epoch 6/50\n",
      "6/6 [==============================] - 0s 7ms/step - loss: 0.0124 - accuracy: 0.0000e+00 - val_loss: 0.0172 - val_accuracy: 0.0000e+00\n",
      "Epoch 7/50\n",
      "6/6 [==============================] - 0s 6ms/step - loss: 0.0128 - accuracy: 0.0000e+00 - val_loss: 0.0176 - val_accuracy: 0.0000e+00\n",
      "Epoch 8/50\n",
      "6/6 [==============================] - 0s 7ms/step - loss: 0.0112 - accuracy: 0.0000e+00 - val_loss: 0.0122 - val_accuracy: 0.0000e+00\n",
      "Epoch 9/50\n",
      "6/6 [==============================] - 0s 7ms/step - loss: 0.0116 - accuracy: 0.0000e+00 - val_loss: 0.0130 - val_accuracy: 0.0000e+00\n",
      "Epoch 10/50\n",
      "6/6 [==============================] - 0s 7ms/step - loss: 0.0108 - accuracy: 0.0000e+00 - val_loss: 0.0118 - val_accuracy: 0.0000e+00\n",
      "Epoch 11/50\n",
      "6/6 [==============================] - 0s 6ms/step - loss: 0.0110 - accuracy: 0.0000e+00 - val_loss: 0.0116 - val_accuracy: 0.0000e+00\n",
      "Epoch 12/50\n",
      "6/6 [==============================] - 0s 7ms/step - loss: 0.0103 - accuracy: 0.0000e+00 - val_loss: 0.0110 - val_accuracy: 0.0000e+00\n",
      "Epoch 13/50\n",
      "6/6 [==============================] - 0s 7ms/step - loss: 0.0107 - accuracy: 0.0000e+00 - val_loss: 0.0109 - val_accuracy: 0.0000e+00\n",
      "Epoch 14/50\n",
      "6/6 [==============================] - 0s 7ms/step - loss: 0.0103 - accuracy: 0.0000e+00 - val_loss: 0.0113 - val_accuracy: 0.0000e+00\n",
      "Epoch 15/50\n",
      "6/6 [==============================] - 0s 7ms/step - loss: 0.0128 - accuracy: 0.0000e+00 - val_loss: 0.0115 - val_accuracy: 0.0000e+00\n",
      "Epoch 16/50\n",
      "6/6 [==============================] - 0s 7ms/step - loss: 0.0112 - accuracy: 0.0000e+00 - val_loss: 0.0115 - val_accuracy: 0.0000e+00\n",
      "Epoch 17/50\n",
      "6/6 [==============================] - 0s 6ms/step - loss: 0.0101 - accuracy: 0.0000e+00 - val_loss: 0.0122 - val_accuracy: 0.0000e+00\n",
      "Epoch 18/50\n",
      "6/6 [==============================] - 0s 7ms/step - loss: 0.0109 - accuracy: 0.0000e+00 - val_loss: 0.0110 - val_accuracy: 0.0000e+00\n",
      "Epoch 19/50\n",
      "6/6 [==============================] - 0s 7ms/step - loss: 0.0104 - accuracy: 0.0000e+00 - val_loss: 0.0145 - val_accuracy: 0.0000e+00\n",
      "Epoch 20/50\n",
      "6/6 [==============================] - 0s 7ms/step - loss: 0.0111 - accuracy: 0.0000e+00 - val_loss: 0.0191 - val_accuracy: 0.0000e+00\n",
      "Epoch 21/50\n",
      "6/6 [==============================] - 0s 7ms/step - loss: 0.0120 - accuracy: 0.0000e+00 - val_loss: 0.0158 - val_accuracy: 0.0000e+00\n",
      "Epoch 22/50\n",
      "6/6 [==============================] - 0s 6ms/step - loss: 0.0103 - accuracy: 0.0000e+00 - val_loss: 0.0111 - val_accuracy: 0.0000e+00\n",
      "Epoch 23/50\n",
      "6/6 [==============================] - 0s 4ms/step - loss: 0.0104 - accuracy: 0.0000e+00 - val_loss: 0.0105 - val_accuracy: 0.0000e+00\n",
      "Epoch 24/50\n",
      "6/6 [==============================] - 0s 6ms/step - loss: 0.0102 - accuracy: 0.0000e+00 - val_loss: 0.0143 - val_accuracy: 0.0000e+00\n",
      "Epoch 25/50\n",
      "6/6 [==============================] - 0s 6ms/step - loss: 0.0107 - accuracy: 0.0000e+00 - val_loss: 0.0233 - val_accuracy: 0.0000e+00\n",
      "Epoch 26/50\n",
      "6/6 [==============================] - 0s 7ms/step - loss: 0.0111 - accuracy: 0.0000e+00 - val_loss: 0.0107 - val_accuracy: 0.0000e+00\n",
      "Epoch 27/50\n",
      "6/6 [==============================] - 0s 7ms/step - loss: 0.0092 - accuracy: 0.0000e+00 - val_loss: 0.0103 - val_accuracy: 0.0000e+00\n",
      "Epoch 28/50\n",
      "6/6 [==============================] - 0s 7ms/step - loss: 0.0096 - accuracy: 0.0000e+00 - val_loss: 0.0115 - val_accuracy: 0.0000e+00\n",
      "Epoch 29/50\n",
      "6/6 [==============================] - 0s 7ms/step - loss: 0.0104 - accuracy: 0.0000e+00 - val_loss: 0.0108 - val_accuracy: 0.0000e+00\n",
      "Epoch 30/50\n",
      "6/6 [==============================] - 0s 7ms/step - loss: 0.0091 - accuracy: 0.0000e+00 - val_loss: 0.0114 - val_accuracy: 0.0000e+00\n",
      "Epoch 31/50\n",
      "6/6 [==============================] - 0s 7ms/step - loss: 0.0089 - accuracy: 0.0000e+00 - val_loss: 0.0116 - val_accuracy: 0.0000e+00\n",
      "Epoch 32/50\n",
      "6/6 [==============================] - 0s 7ms/step - loss: 0.0109 - accuracy: 0.0000e+00 - val_loss: 0.0166 - val_accuracy: 0.0000e+00\n",
      "Epoch 33/50\n",
      "6/6 [==============================] - 0s 7ms/step - loss: 0.0097 - accuracy: 0.0000e+00 - val_loss: 0.0108 - val_accuracy: 0.0000e+00\n",
      "Epoch 34/50\n",
      "6/6 [==============================] - 0s 6ms/step - loss: 0.0086 - accuracy: 0.0000e+00 - val_loss: 0.0108 - val_accuracy: 0.0000e+00\n",
      "Epoch 35/50\n",
      "6/6 [==============================] - 0s 6ms/step - loss: 0.0095 - accuracy: 0.0000e+00 - val_loss: 0.0161 - val_accuracy: 0.0000e+00\n",
      "Epoch 36/50\n",
      "6/6 [==============================] - 0s 7ms/step - loss: 0.0098 - accuracy: 0.0000e+00 - val_loss: 0.0175 - val_accuracy: 0.0000e+00\n",
      "Epoch 37/50\n",
      "6/6 [==============================] - 0s 6ms/step - loss: 0.0106 - accuracy: 0.0000e+00 - val_loss: 0.0107 - val_accuracy: 0.0000e+00\n",
      "Epoch 38/50\n",
      "6/6 [==============================] - 0s 6ms/step - loss: 0.0115 - accuracy: 0.0000e+00 - val_loss: 0.0121 - val_accuracy: 0.0000e+00\n",
      "Epoch 39/50\n",
      "6/6 [==============================] - 0s 6ms/step - loss: 0.0107 - accuracy: 0.0000e+00 - val_loss: 0.0098 - val_accuracy: 0.0000e+00\n",
      "Epoch 40/50\n",
      "6/6 [==============================] - 0s 6ms/step - loss: 0.0104 - accuracy: 0.0000e+00 - val_loss: 0.0098 - val_accuracy: 0.0000e+00\n",
      "Epoch 41/50\n",
      "6/6 [==============================] - 0s 6ms/step - loss: 0.0085 - accuracy: 0.0000e+00 - val_loss: 0.0144 - val_accuracy: 0.0000e+00\n",
      "Epoch 42/50\n",
      "6/6 [==============================] - 0s 6ms/step - loss: 0.0093 - accuracy: 0.0000e+00 - val_loss: 0.0116 - val_accuracy: 0.0000e+00\n",
      "Epoch 43/50\n",
      "6/6 [==============================] - 0s 6ms/step - loss: 0.0087 - accuracy: 0.0000e+00 - val_loss: 0.0123 - val_accuracy: 0.0000e+00\n",
      "Epoch 44/50\n",
      "6/6 [==============================] - 0s 6ms/step - loss: 0.0094 - accuracy: 0.0000e+00 - val_loss: 0.0098 - val_accuracy: 0.0000e+00\n",
      "Epoch 45/50\n",
      "6/6 [==============================] - 0s 6ms/step - loss: 0.0092 - accuracy: 0.0000e+00 - val_loss: 0.0122 - val_accuracy: 0.0000e+00\n",
      "Epoch 46/50\n",
      "6/6 [==============================] - 0s 6ms/step - loss: 0.0086 - accuracy: 0.0054 - val_loss: 0.0096 - val_accuracy: 0.0000e+00\n",
      "Epoch 47/50\n",
      "6/6 [==============================] - 0s 6ms/step - loss: 0.0087 - accuracy: 0.0000e+00 - val_loss: 0.0093 - val_accuracy: 0.0000e+00\n",
      "Epoch 48/50\n",
      "6/6 [==============================] - 0s 6ms/step - loss: 0.0084 - accuracy: 0.0000e+00 - val_loss: 0.0120 - val_accuracy: 0.0000e+00\n",
      "Epoch 49/50\n",
      "6/6 [==============================] - 0s 6ms/step - loss: 0.0096 - accuracy: 0.0000e+00 - val_loss: 0.0160 - val_accuracy: 0.0000e+00\n",
      "Epoch 50/50\n",
      "6/6 [==============================] - 0s 6ms/step - loss: 0.0107 - accuracy: 0.0000e+00 - val_loss: 0.0091 - val_accuracy: 0.0000e+00\n"
     ]
    },
    {
     "data": {
      "text/plain": [
       "<keras.callbacks.History at 0x26192c46940>"
      ]
     },
     "execution_count": 44,
     "metadata": {},
     "output_type": "execute_result"
    }
   ],
   "source": [
    "model = tuner.hypermodel.build(best_hps)\n",
    "model.fit(X_train1, y_train1, epochs=50, validation_split=0.2)"
   ]
  },
  {
   "cell_type": "code",
   "execution_count": 45,
   "id": "bc8677c2",
   "metadata": {},
   "outputs": [
    {
     "data": {
      "text/plain": [
       "(58, 10)"
      ]
     },
     "execution_count": 45,
     "metadata": {},
     "output_type": "execute_result"
    }
   ],
   "source": [
    "predicted = model.predict(X_test1)\n",
    "y_test1_np = np.asarray(y_test1)\n",
    "predicted.shape"
   ]
  },
  {
   "cell_type": "code",
   "execution_count": 54,
   "id": "6596ef21",
   "metadata": {},
   "outputs": [],
   "source": [
    "mean_predicted = []\n",
    "for i in range(len(predicted)):\n",
    "    value = predicted[i].mean()\n",
    "    mean_predicted.append(value)\n"
   ]
  },
  {
   "cell_type": "code",
   "execution_count": 55,
   "id": "a8f3d823",
   "metadata": {},
   "outputs": [
    {
     "name": "stdout",
     "output_type": "stream",
     "text": [
      "58\n",
      "58\n"
     ]
    }
   ],
   "source": [
    "print(len(mean_predicted))\n",
    "print(len(y_test1_np))"
   ]
  },
  {
   "cell_type": "code",
   "execution_count": 56,
   "id": "63704cc1",
   "metadata": {},
   "outputs": [
    {
     "data": {
      "text/plain": [
       "<matplotlib.legend.Legend at 0x26194752340>"
      ]
     },
     "execution_count": 56,
     "metadata": {},
     "output_type": "execute_result"
    },
    {
     "data": {
      "image/png": "[encoded data removed]",
      "text/plain": [
       "<Figure size 720x720 with 1 Axes>"
      ]
     },
     "metadata": {},
     "output_type": "display_data"
    }
   ],
   "source": [
    "fig,ax = plt.subplots(figsize=(10,10))\n",
    "ax.plot(mean_predicted,label = '预测值')\n",
    "ax.plot(y_test1_np,label = '真实值')\n",
    "plt.legend(loc=\"upper left\")"
   ]
  },
  {
   "cell_type": "code",
   "execution_count": 1,
   "id": "ec00c902",
   "metadata": {},
   "outputs": [
    {
     "ename": "NameError",
     "evalue": "name 'data1' is not defined",
     "output_type": "error",
     "traceback": [
      "\u001b[1;31m---------------------------------------------------------------------------\u001b[0m",
      "\u001b[1;31mNameError\u001b[0m                                 Traceback (most recent call last)",
      "\u001b[1;32m<ipython-input-1-1a22baf40227>\u001b[0m in \u001b[0;36m<module>\u001b[1;34m\u001b[0m\n\u001b[0;32m      1\u001b[0m \u001b[1;31m# Predicting closing price of Google and microsoft\u001b[0m\u001b[1;33m\u001b[0m\u001b[1;33m\u001b[0m\u001b[1;33m\u001b[0m\u001b[0m\n\u001b[1;32m----> 2\u001b[1;33m \u001b[0mtrain_sample\u001b[0m \u001b[1;33m=\u001b[0m \u001b[0mdata1\u001b[0m\u001b[1;33m[\u001b[0m\u001b[1;34m\"收盘\"\u001b[0m\u001b[1;33m]\u001b[0m\u001b[1;33m\u001b[0m\u001b[1;33m\u001b[0m\u001b[0m\n\u001b[0m\u001b[0;32m      3\u001b[0m \u001b[0mmodel\u001b[0m \u001b[1;33m=\u001b[0m \u001b[0msm\u001b[0m\u001b[1;33m.\u001b[0m\u001b[0mtsa\u001b[0m\u001b[1;33m.\u001b[0m\u001b[0mVARMAX\u001b[0m\u001b[1;33m(\u001b[0m\u001b[0mtrain_sample\u001b[0m\u001b[1;33m,\u001b[0m\u001b[0morder\u001b[0m\u001b[1;33m=\u001b[0m\u001b[1;33m(\u001b[0m\u001b[1;36m2\u001b[0m\u001b[1;33m,\u001b[0m\u001b[1;36m1\u001b[0m\u001b[1;33m)\u001b[0m\u001b[1;33m,\u001b[0m\u001b[0mtrend\u001b[0m\u001b[1;33m=\u001b[0m\u001b[1;34m'c'\u001b[0m\u001b[1;33m)\u001b[0m\u001b[1;33m\u001b[0m\u001b[1;33m\u001b[0m\u001b[0m\n\u001b[0;32m      4\u001b[0m \u001b[0mresult\u001b[0m \u001b[1;33m=\u001b[0m \u001b[0mmodel\u001b[0m\u001b[1;33m.\u001b[0m\u001b[0mfit\u001b[0m\u001b[1;33m(\u001b[0m\u001b[0mmaxiter\u001b[0m\u001b[1;33m=\u001b[0m\u001b[1;36m1000\u001b[0m\u001b[1;33m,\u001b[0m\u001b[0mdisp\u001b[0m\u001b[1;33m=\u001b[0m\u001b[1;32mFalse\u001b[0m\u001b[1;33m)\u001b[0m\u001b[1;33m\u001b[0m\u001b[1;33m\u001b[0m\u001b[0m\n\u001b[0;32m      5\u001b[0m \u001b[0mprint\u001b[0m\u001b[1;33m(\u001b[0m\u001b[0mresult\u001b[0m\u001b[1;33m.\u001b[0m\u001b[0msummary\u001b[0m\u001b[1;33m(\u001b[0m\u001b[1;33m)\u001b[0m\u001b[1;33m)\u001b[0m\u001b[1;33m\u001b[0m\u001b[1;33m\u001b[0m\u001b[0m\n",
      "\u001b[1;31mNameError\u001b[0m: name 'data1' is not defined"
     ]
    }
   ],
   "source": [
    "# Predicting closing price of Google and microsoft\n",
    "train_sample = data1[\"收盘\"]\n",
    "model = sm.tsa.VARMAX(train_sample,order=(2,1),trend='c')\n",
    "result = model.fit(maxiter=1000,disp=False)\n",
    "print(result.summary())\n",
    "predicted_result = result.predict(start=0, end=1000)\n",
    "result.plot_diagnostics()\n",
    "# calculating error\n",
    "rmse = math.sqrt(mean_squared_error(train_sample.iloc[1:1002].values, predicted_result.values))\n",
    "print(\"The root mean squared error is {}.\".format(rmse))"
   ]
  },
  {
   "cell_type": "code",
   "execution_count": null,
   "id": "a71e9703",
   "metadata": {},
   "outputs": [],
   "source": []
  },
  {
   "cell_type": "code",
   "execution_count": null,
   "id": "0acf5097",
   "metadata": {},
   "outputs": [],
   "source": []
  }
 ],
 "metadata": {
  "kernelspec": {
   "display_name": "Python 3",
   "language": "python",
   "name": "python3"
  },
  "language_info": {
   "codemirror_mode": {
    "name": "ipython",
    "version": 3
   },
   "file_extension": ".py",
   "mimetype": "text/x-python",
   "name": "python",
   "nbconvert_exporter": "python",
   "pygments_lexer": "ipython3",
   "version": "3.8.8"
  }
 },
 "nbformat": 4,
 "nbformat_minor": 5
}
